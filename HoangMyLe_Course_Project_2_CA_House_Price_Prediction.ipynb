{
  "nbformat": 4,
  "nbformat_minor": 0,
  "metadata": {
    "colab": {
      "provenance": [],
      "gpuType": "T4",
      "include_colab_link": true
    },
    "kernelspec": {
      "name": "python3",
      "display_name": "Python 3"
    },
    "language_info": {
      "name": "python"
    },
    "accelerator": "GPU"
  },
  "cells": [
    {
      "cell_type": "markdown",
      "metadata": {
        "id": "view-in-github",
        "colab_type": "text"
      },
      "source": [
        "<a href=\"https://colab.research.google.com/github/lemy198/Hands-on_AI_projects/blob/main/HoangMyLe_Course_Project_2_CA_House_Price_Prediction.ipynb\" target=\"_parent\"><img src=\"https://colab.research.google.com/assets/colab-badge.svg\" alt=\"Open In Colab\"/></a>"
      ]
    },
    {
      "cell_type": "markdown",
      "source": [
        "# Check GPU is enabled\n",
        "* To use GPU, go to ``Runtime`` -> ``change runtime type`` -> ``T4 GPU``."
      ],
      "metadata": {
        "id": "AJUVECWupUuT"
      }
    },
    {
      "cell_type": "code",
      "source": [
        "import torch\n",
        "\n",
        "# Check if GPU is available\n",
        "device = torch.device(\"cuda\" if torch.cuda.is_available() else \"cpu\")\n",
        "print(f\"Using device: {device}\")"
      ],
      "metadata": {
        "colab": {
          "base_uri": "https://localhost:8080/"
        },
        "id": "pK2xW0iYpQik",
        "outputId": "87f6185a-e14f-4571-c4cb-374292550fb7"
      },
      "execution_count": null,
      "outputs": [
        {
          "output_type": "stream",
          "name": "stdout",
          "text": [
            "Using device: cuda\n"
          ]
        }
      ]
    },
    {
      "cell_type": "markdown",
      "source": [
        "# Prepare the Dataset\n",
        "* We will use the colab default dataset, i.e., ``california_housing_train.csv`` and ``california_housing_test.csv``.\n",
        "* We start with define a dataset to specify the input and output features."
      ],
      "metadata": {
        "id": "I99E10GvppPX"
      }
    },
    {
      "cell_type": "code",
      "source": [
        "from torch.utils.data import Dataset\n",
        "import pandas as pd\n",
        "\n",
        "class CAHousingDataset(Dataset):\n",
        "    def __init__(self, file_location):\n",
        "        df = pd.read_csv(file_location)\n",
        "\n",
        "        # uncomment the following two lines if you want to select specific columns.\n",
        "        input_indices = [2, 3, 4, 6, 8]  # list of input column indices\n",
        "        input_columns = [df.columns[i] for i in input_indices]\n",
        "        #input_columns = df.columns[:-1] # all columns except the last one as inputs\n",
        "        output_column = df.columns[-1]  # target\n",
        "\n",
        "        # Calculate mean and std for normalization\n",
        "        input_means = df[input_columns].mean()\n",
        "        input_stds = df[input_columns].std()\n",
        "        target_mean = df[output_column].mean()\n",
        "        target_std = df[output_column].std()\n",
        "\n",
        "        # Normalize features and target\n",
        "        self.inputs = torch.tensor(((df[input_columns] - input_means) / input_stds).values, dtype=torch.float32)\n",
        "        self.targets = torch.tensor(((df[output_column] - target_mean) / target_std).values.reshape(-1, 1),\n",
        "                                    dtype=torch.float32)\n",
        "\n",
        "    def __len__(self):\n",
        "        return len(self.inputs)\n",
        "\n",
        "    def __getitem__(self, idx):\n",
        "        return self.inputs[idx], self.targets[idx]"
      ],
      "metadata": {
        "id": "Yq3hKJq2qCQQ"
      },
      "execution_count": null,
      "outputs": []
    },
    {
      "cell_type": "markdown",
      "source": [
        "* Then, we can load the dataset. Here, we will split the ``california_housing_train.csv`` into training and validation dataset.\n"
      ],
      "metadata": {
        "id": "TFqJbntXqZCP"
      }
    },
    {
      "cell_type": "code",
      "source": [
        "from torch.utils.data import DataLoader, random_split\n",
        "\n",
        "def split_dataset(dataset, train_ratio=0.8):\n",
        "    \"\"\"\n",
        "    Splits the dataset into training and validation sets.\n",
        "\n",
        "    Parameters:\n",
        "    - dataset (Dataset): The dataset to split.\n",
        "    - train_ratio (float): Ratio of training data (default: 0.8).\n",
        "\n",
        "    Returns:\n",
        "    - train_dataset, val_dataset: Split datasets.\n",
        "    \"\"\"\n",
        "    total_size = len(dataset)\n",
        "    train_size = int(train_ratio * total_size)\n",
        "    val_size = total_size - train_size\n",
        "    train_dataset, val_dataset = random_split(dataset, [train_size, val_size])\n",
        "    return train_dataset, val_dataset"
      ],
      "metadata": {
        "id": "roZjCLbOqpbd"
      },
      "execution_count": null,
      "outputs": []
    },
    {
      "cell_type": "markdown",
      "source": [
        "* Then, we can load the dataset into batches, shuffle it, and prepare it for training."
      ],
      "metadata": {
        "id": "mm0spJn_qyNp"
      }
    },
    {
      "cell_type": "code",
      "source": [
        "def load_data(train_path, test_path):\n",
        "    dataset = CAHousingDataset(train_path)\n",
        "    test_dataset = CAHousingDataset(test_path)\n",
        "\n",
        "    # Split the dataset\n",
        "    train_dataset, val_dataset = split_dataset(dataset, train_ratio=0.8)\n",
        "\n",
        "    # Create DataLoaders for training, validation, and testing\n",
        "    batch_size = 32\n",
        "    train_loader = DataLoader(train_dataset, batch_size=batch_size, shuffle=True)\n",
        "    val_loader = DataLoader(val_dataset, batch_size=batch_size, shuffle=False)\n",
        "    test_loader = DataLoader(test_dataset, batch_size=batch_size, shuffle=False)\n",
        "\n",
        "    # Check the splits\n",
        "    print(f\"Total dataset size: {len(dataset)}\")\n",
        "    print(f\"Training set size: {len(train_dataset)}\")\n",
        "    print(f\"Validation set size: {len(val_dataset)}\")\n",
        "    print(f\"Testing set size: {len(test_dataset)}\")\n",
        "\n",
        "    # Display the first batch in training_dataset\n",
        "    for batch in train_loader:\n",
        "        inputs, targets = batch\n",
        "        print(f\"Training Dataset: Input Shape: {inputs.shape} | Output Shape: {targets.shape}\")\n",
        "        break  # Just check one batch\n",
        "\n",
        "    # Display the first batch in testing_dataset\n",
        "    for batch in test_loader:\n",
        "        inputs, targets = batch\n",
        "        print(f\"Testing Dataset: Input Shape: {inputs.shape} | Output Shape: {targets.shape}\")\n",
        "        break  # Just check one batch\n",
        "\n",
        "    return train_loader, train_dataset, val_loader, val_dataset, test_loader, test_dataset\n",
        "\n",
        "# Load the dataset\n",
        "train_path = \"/content/sample_data/california_housing_train.csv\"\n",
        "test_path = \"/content/sample_data/california_housing_test.csv\"\n",
        "\n",
        "train_loader, train_dataset, val_loader, val_dataset, test_loader, test_dataset = load_data(train_path,test_path)"
      ],
      "metadata": {
        "colab": {
          "base_uri": "https://localhost:8080/"
        },
        "id": "kyQ4tBF6q4-5",
        "outputId": "aa78386c-073a-45ef-e03c-4e798562516b"
      },
      "execution_count": null,
      "outputs": [
        {
          "output_type": "stream",
          "name": "stdout",
          "text": [
            "Total dataset size: 17000\n",
            "Training set size: 13600\n",
            "Validation set size: 3400\n",
            "Testing set size: 3000\n",
            "Training Dataset: Input Shape: torch.Size([32, 5]) | Output Shape: torch.Size([32, 1])\n",
            "Testing Dataset: Input Shape: torch.Size([32, 5]) | Output Shape: torch.Size([32, 1])\n"
          ]
        }
      ]
    },
    {
      "cell_type": "markdown",
      "source": [
        "# Define the Deep Learning Model\n",
        "* Here, we define a simple feedforward neural network to make the prediction.\n",
        "* You can edit the model structure, like the number of layers and the value of ``hidden_dim``."
      ],
      "metadata": {
        "id": "HSRoI514rXNj"
      }
    },
    {
      "cell_type": "code",
      "source": [
        "# Import necessary libraries\n",
        "import torch.nn as nn\n",
        "\n",
        "# Define the Neural Network using nn.Sequential\n",
        "class NeuralNetwork(nn.Module):\n",
        "    def __init__(self, input_features, output_features, hidden_dim):\n",
        "        super(NeuralNetwork, self).__init__()\n",
        "        self.model = nn.Sequential(\n",
        "            nn.Linear(input_features, hidden_dim),\n",
        "            nn.ReLU(),\n",
        "            nn.Linear(hidden_dim, output_features),\n",
        "        )\n",
        "\n",
        "    def forward(self, x):\n",
        "        x = self.model(x)\n",
        "        return x\n",
        "\n",
        "# Define the model\n",
        "model = NeuralNetwork(input_features=len(test_dataset.inputs[0]),\n",
        "                      output_features=1,\n",
        "                      hidden_dim=128).to(device)\n"
      ],
      "metadata": {
        "id": "JBxg0obwrhzp"
      },
      "execution_count": null,
      "outputs": []
    },
    {
      "cell_type": "markdown",
      "source": [
        "# Training Loop\n",
        "* This section defines the training loop.\n",
        "* We implement a technique, called ``early_stop``.\n",
        "    * If the model does not improve the loss on the validation dataset for consecutive ``100`` epoches, we stop the training."
      ],
      "metadata": {
        "id": "p-mfo1XysaEa"
      }
    },
    {
      "cell_type": "code",
      "source": [
        "import torch.optim as optim\n",
        "import math\n",
        "import matplotlib.pyplot as plt\n",
        "\n",
        "# Define loss function and optimizer\n",
        "criterion = nn.MSELoss()  # Mean Squared Error for regression\n",
        "optimizer = optim.SGD(model.parameters(), lr=0.005)  # optimizer\n",
        "\n",
        "epoch_count = []\n",
        "train_loss_values = []\n",
        "val_loss_values = []\n",
        "best_loss = math.inf\n",
        "early_stop_count = 0\n",
        "\n",
        "num_epochs = 10\n",
        "early_stop = 10    # if the model does not improve on validation in 5 epoches, stop the model.\n",
        "\n",
        "save_path = \"/content/FNN.pth\"\n",
        "\n",
        "for epoch in range(num_epochs):\n",
        "    model.train()  # Set model to training mode\n",
        "    train_loss = 0.0  # Track the total loss for this epoch\n",
        "\n",
        "    for inputs, targets in train_loader:\n",
        "        # Move inputs and targets to the GPU (if available)\n",
        "        inputs, targets = inputs.to(device), targets.to(device)\n",
        "        # Zero the parameter gradients\n",
        "        optimizer.zero_grad()\n",
        "\n",
        "        # Forward pass: compute the model output\n",
        "        output = model(inputs)\n",
        "\n",
        "        # Compute the loss\n",
        "        loss = criterion(output, targets)\n",
        "\n",
        "        # Backward pass: compute the gradients\n",
        "        loss.backward()\n",
        "\n",
        "        # Update the weights\n",
        "        optimizer.step()\n",
        "\n",
        "        # Accumulate the training loss\n",
        "        train_loss += loss.item()\n",
        "\n",
        "    # Calculate average training loss for this epoch\n",
        "    avg_train_loss = train_loss / len(train_loader)\n",
        "    train_loss_values.append(avg_train_loss)\n",
        "\n",
        "    # Evaluate on the validation set\n",
        "    model.eval()  # Set model to evaluation mode\n",
        "    val_loss = 0.0  # Track total test loss for this epoch\n",
        "\n",
        "    with torch.inference_mode():  # No gradients needed\n",
        "        for inputs, targets in val_loader:\n",
        "            inputs, targets = inputs.to(device), targets.to(device)\n",
        "            outputs = model(inputs)\n",
        "            loss = criterion(outputs, targets)\n",
        "            val_loss += loss.item()\n",
        "\n",
        "    # Calculate average validation loss for this epoch\n",
        "    avg_val_loss = val_loss / len(val_loader)\n",
        "    val_loss_values.append(avg_val_loss)\n",
        "\n",
        "    # Store the epoch number\n",
        "    epoch_count.append(epoch + 1)\n",
        "\n",
        "    # Print the average losses for this epoch\n",
        "    print(\n",
        "        f'Epoch [{epoch + 1}/{num_epochs}], Train Loss: {avg_train_loss:.4f}, Validation Loss: {avg_val_loss:.4f}')\n",
        "\n",
        "    # If the test results on validation data is better than the history, save the model\n",
        "    if avg_val_loss < best_loss:\n",
        "        best_loss = avg_val_loss\n",
        "        torch.save(model.state_dict(), save_path)\n",
        "        print(f'Saving Model with Loss {best_loss:.3f}')\n",
        "        early_stop_count = 0\n",
        "    else:\n",
        "        early_stop_count += 1\n",
        "\n",
        "    # If the model does not improve for a certain amount of times, break the training loop\n",
        "    if early_stop_count >= early_stop:\n",
        "        print('\\nModel is not improving, stop the training')\n",
        "        break\n",
        "\n",
        "print(\"Training complete!\")\n",
        "\n",
        "# Complete the training and plot the training result\n",
        "# Plot train and test loss values\n",
        "plt.plot(epoch_count, train_loss_values, label=\"Train loss\")\n",
        "plt.plot(epoch_count, val_loss_values, label=\"Validation loss\")\n",
        "plt.title(\"Train and Test Loss Curves\")\n",
        "plt.xlabel(\"Epochs\")\n",
        "plt.ylabel(\"Loss\")\n",
        "plt.legend()\n",
        "\n",
        "# Set x-ticks to show integers only\n",
        "plt.xticks(ticks=[0, len(epoch_count) / 2, len(epoch_count)])\n",
        "\n",
        "plt.show()"
      ],
      "metadata": {
        "colab": {
          "base_uri": "https://localhost:8080/",
          "height": 853
        },
        "id": "i6ef3CVfsuEp",
        "outputId": "09b91795-6b36-4350-e6e0-74375c3d41ec"
      },
      "execution_count": null,
      "outputs": [
        {
          "output_type": "stream",
          "name": "stdout",
          "text": [
            "Epoch [1/10], Train Loss: 0.0354, Validation Loss: 0.0045\n",
            "Saving Model with Loss 0.004\n",
            "Epoch [2/10], Train Loss: 0.0034, Validation Loss: 0.0030\n",
            "Saving Model with Loss 0.003\n",
            "Epoch [3/10], Train Loss: 0.0025, Validation Loss: 0.0023\n",
            "Saving Model with Loss 0.002\n",
            "Epoch [4/10], Train Loss: 0.0021, Validation Loss: 0.0019\n",
            "Saving Model with Loss 0.002\n",
            "Epoch [5/10], Train Loss: 0.0017, Validation Loss: 0.0016\n",
            "Saving Model with Loss 0.002\n",
            "Epoch [6/10], Train Loss: 0.0015, Validation Loss: 0.0014\n",
            "Saving Model with Loss 0.001\n",
            "Epoch [7/10], Train Loss: 0.0013, Validation Loss: 0.0012\n",
            "Saving Model with Loss 0.001\n",
            "Epoch [8/10], Train Loss: 0.0011, Validation Loss: 0.0011\n",
            "Saving Model with Loss 0.001\n",
            "Epoch [9/10], Train Loss: 0.0010, Validation Loss: 0.0010\n",
            "Saving Model with Loss 0.001\n",
            "Epoch [10/10], Train Loss: 0.0009, Validation Loss: 0.0009\n",
            "Saving Model with Loss 0.001\n",
            "Training complete!\n"
          ]
        },
        {
          "output_type": "display_data",
          "data": {
            "text/plain": [
              "<Figure size 640x480 with 1 Axes>"
            ],
            "image/png": "[encoded data removed]"
          },
          "metadata": {}
        }
      ]
    },
    {
      "cell_type": "markdown",
      "source": [
        "# Evaluation\n",
        "* Evaluate the model performance on the testing dataset.\n",
        "* We will also generate a parity plot to show the prediction results."
      ],
      "metadata": {
        "id": "E1gdyRextf40"
      }
    },
    {
      "cell_type": "code",
      "source": [
        "from sklearn.metrics import r2_score, mean_squared_error\n",
        "\n",
        "# load the model\n",
        "model_path = \"/content/FNN.pth\"\n",
        "\n",
        "model.eval()  # Set the model to evaluation mode\n",
        "\n",
        "predictions = []\n",
        "ground_truths = []\n",
        "loss = 0.0\n",
        "criterion = nn.MSELoss()\n",
        "# No gradient calculation during testing\n",
        "with torch.no_grad():\n",
        "    for inputs, targets in test_loader:\n",
        "        inputs, targets = inputs.to(device), targets.to(device)\n",
        "\n",
        "        # Forward pass\n",
        "        outputs = model(inputs)\n",
        "        loss += criterion(outputs, targets)\n",
        "        predictions.append(outputs)\n",
        "        ground_truths.append(targets)\n",
        "\n",
        "# Combine all batches into single tensors\n",
        "predictions = torch.cat(predictions, dim=0).cpu().numpy()\n",
        "ground_truths = torch.cat(ground_truths, dim=0).cpu().numpy()\n",
        "\n",
        "r2 = r2_score(ground_truths, predictions)\n",
        "mse = mean_squared_error(ground_truths, predictions)\n",
        "\n",
        "print(f\"MSE Loss for FNN is: {mse} | R2 Score is: {r2}\")\n",
        "\n",
        "# Scatter plot of ground truth vs. predictions\n",
        "plt.figure(figsize=(6, 6))\n",
        "plt.scatter(ground_truths, predictions, alpha=0.5)\n",
        "plt.plot([-3, 3], [-3, 3], 'r', linestyle='--')  # 45-degree reference line\n",
        "plt.xlabel(\"Ground Truth\")\n",
        "plt.ylabel(\"Predictions\")\n",
        "plt.title(\"Predictions vs Ground Truth\")\n",
        "plt.show()"
      ],
      "metadata": {
        "colab": {
          "base_uri": "https://localhost:8080/",
          "height": 582
        },
        "id": "GyXyUwFSt3Wl",
        "outputId": "932a15c5-5287-4494-9950-05401baf7a08"
      },
      "execution_count": null,
      "outputs": [
        {
          "output_type": "stream",
          "name": "stdout",
          "text": [
            "MSE Loss for FNN is: 0.0009316130308434367 | R2 Score is: 0.9990680813789368\n"
          ]
        },
        {
          "output_type": "display_data",
          "data": {
            "text/plain": [
              "<Figure size 600x600 with 1 Axes>"
            ],
            "image/png": "[encoded data removed]"
          },
          "metadata": {}
        }
      ]
    }
  ]
}